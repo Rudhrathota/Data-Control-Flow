{
  "metadata": {
    "kernelspec": {
      "name": "python",
      "display_name": "Python (Pyodide)",
      "language": "python"
    },
    "language_info": {
      "codemirror_mode": {
        "name": "ipython",
        "version": 3
      },
      "file_extension": ".py",
      "mimetype": "text/x-python",
      "name": "python",
      "nbconvert_exporter": "python",
      "pygments_lexer": "ipython3",
      "version": "3.12.0"
    }
  },
  "nbformat_minor": 4,
  "nbformat": 4,
  "cells": [
    {
      "cell_type": "markdown",
      "source": "#### Loops\nVideo Outline:\n1. Introduction to Loops\n2. for Loop\n   - Iterating over a range\n   - Iterating over a string\n\n3. while Loop\n4. Loop Control Statements\n    - break\n    - continue\n    - pass\n5. Nested Loops\n6. Practical Examples and Common Errors",
      "metadata": {}
    },
    {
      "cell_type": "code",
      "source": "range(5)",
      "metadata": {
        "trusted": true
      },
      "outputs": [],
      "execution_count": null
    },
    {
      "cell_type": "code",
      "source": "## for loop\n\nfor i in range(5):\n    print(i)",
      "metadata": {
        "trusted": true
      },
      "outputs": [],
      "execution_count": null
    },
    {
      "cell_type": "code",
      "source": "for i in range(1,6):\n    print(i)",
      "metadata": {
        "trusted": true
      },
      "outputs": [],
      "execution_count": null
    },
    {
      "cell_type": "code",
      "source": "for i in range(1,10,2):\n    print(i)",
      "metadata": {
        "trusted": true
      },
      "outputs": [],
      "execution_count": null
    },
    {
      "cell_type": "code",
      "source": "for i in range(10,1,-1):\n    print(i)",
      "metadata": {
        "trusted": true
      },
      "outputs": [],
      "execution_count": null
    },
    {
      "cell_type": "code",
      "source": "for i in range(10,1,-2):\n    print(i)",
      "metadata": {
        "trusted": true
      },
      "outputs": [],
      "execution_count": null
    },
    {
      "cell_type": "code",
      "source": "## strings\n\nstr=\"Rudhra Kumar\"\n\nfor i in str:\n    print(i)",
      "metadata": {
        "trusted": true
      },
      "outputs": [],
      "execution_count": null
    },
    {
      "cell_type": "code",
      "source": "## while loop\n\n## The while loop continues to execute as long as the condition is True.\n\ncount=0\n\nwhile count<5:\n    print(count)\n    count=count+1\n\n\n",
      "metadata": {
        "trusted": true
      },
      "outputs": [],
      "execution_count": null
    },
    {
      "cell_type": "code",
      "source": "## Loop Control Statements\n\n## break\n## The break statement exits the loop permaturely\n\n## break sstatement\n\nfor i in range(10):\n    if i==5:\n        break\n    print(i)\n   ",
      "metadata": {
        "trusted": true
      },
      "outputs": [],
      "execution_count": null
    },
    {
      "cell_type": "code",
      "source": "## continue\n\n## The continue statement skips the current iteration and continues with the next.\n\nfor i in range(10):\n    if i%2==0:\n        continue\n    print(i)\n\n\n",
      "metadata": {
        "trusted": true
      },
      "outputs": [],
      "execution_count": null
    },
    {
      "cell_type": "code",
      "source": "## pass\n## The pass statement is a null operation; it does nothing.\n\nfor i in range(5):\n    if i==3:\n        pass\n    print(i)\n",
      "metadata": {
        "trusted": true
      },
      "outputs": [],
      "execution_count": null
    },
    {
      "cell_type": "code",
      "source": "## Nested loopss\n## a loop inside a loop\n\nfor i in range(3):\n    for j in range(2):\n        print(f\"i:{i} and j:{j}\")",
      "metadata": {
        "trusted": true
      },
      "outputs": [],
      "execution_count": null
    },
    {
      "cell_type": "code",
      "source": "## Examples- Calculate the sum of first N natural numbers using a while and for loop\n\n## while loop  \n\nn=10   \nsum=0\ncount=1\n\nwhile count<=n:\n    sum=sum+count\n    count=count+1\n\nprint(\"Sum of first 10 natural number:\",sum)\n",
      "metadata": {
        "trusted": true
      },
      "outputs": [],
      "execution_count": null
    },
    {
      "cell_type": "code",
      "source": "n=10   \nsum=0\nfor i in range(11):\n    sum=sum+i\n\nprint(sum)",
      "metadata": {
        "trusted": true
      },
      "outputs": [],
      "execution_count": null
    },
    {
      "cell_type": "code",
      "source": "## Example- Prime numbers between 1 and 100\n\nfor num in range(1,101):\n    if num>1:\n        for i in range(2,num):\n            if num%i==0:\n                break\n        else:\n            print(num)",
      "metadata": {
        "trusted": true
      },
      "outputs": [],
      "execution_count": null
    },
    {
      "cell_type": "markdown",
      "source": "#### Conclusion:\nLoops are powerful constructs in Python that allow you to execute a block of code multiple times. By understanding and using for and while loops, along with loop control statements like break, continue, and pass, you can handle a wide range of programming tasks efficiently.",
      "metadata": {}
    },
    {
      "cell_type": "code",
      "source": "",
      "metadata": {
        "trusted": true
      },
      "outputs": [],
      "execution_count": null
    }
  ]
}